{
  "cells": [
    {
      "cell_type": "markdown",
      "metadata": {
        "id": "HDZ9fGahsi1J"
      },
      "source": [
        "### Install libraries"
      ]
    },
    {
      "cell_type": "code",
      "execution_count": 1,
      "metadata": {
        "colab": {
          "base_uri": "https://localhost:8080/"
        },
        "id": "kBcjiWsgsi1h",
        "outputId": "20b3a45b-2c20-4e56-c9dd-972f032ea925"
      },
      "outputs": [
        {
          "output_type": "stream",
          "name": "stdout",
          "text": [
            "Looking in indexes: https://pypi.org/simple, https://us-python.pkg.dev/colab-wheels/public/simple/\n",
            "Requirement already satisfied: nest_asyncio in /usr/local/lib/python3.7/dist-packages (1.5.5)\n"
          ]
        }
      ],
      "source": [
        "!pip install nest_asyncio\n",
        "import nest_asyncio\n",
        "nest_asyncio.apply()# used once to enable concurrent actions within a Jupyter notebook."
      ]
    },
    {
      "cell_type": "code",
      "execution_count": 1,
      "metadata": {
        "colab": {
          "base_uri": "https://localhost:8080/"
        },
        "id": "sRAIV01Dsi1j",
        "outputId": "55df5e94-0811-4cf1-9737-b6647376fdea"
      },
      "outputs": [
        {
          "output_type": "stream",
          "name": "stdout",
          "text": [
            "fatal: destination path 'twint' already exists and is not an empty directory.\n",
            "/content/twint\n",
            "Looking in indexes: https://pypi.org/simple, https://us-python.pkg.dev/colab-wheels/public/simple/\n",
            "Processing /content/twint\n",
            "\u001b[33m  DEPRECATION: A future pip version will change local packages to be built in-place without first copying to a temporary directory. We recommend you use --use-feature=in-tree-build to test your packages with this new behavior before it becomes the default.\n",
            "   pip 21.3 will remove support for this functionality. You can find discussion regarding this at https://github.com/pypa/pip/issues/7555.\u001b[0m\n",
            "Requirement already satisfied: aiohttp in /usr/local/lib/python3.7/dist-packages (from -r requirements.txt (line 1)) (3.7.0)\n",
            "Requirement already satisfied: aiodns in /usr/local/lib/python3.7/dist-packages (from -r requirements.txt (line 2)) (3.0.0)\n",
            "Requirement already satisfied: beautifulsoup4 in /usr/local/lib/python3.7/dist-packages (from -r requirements.txt (line 3)) (4.6.3)\n",
            "Requirement already satisfied: cchardet in /usr/local/lib/python3.7/dist-packages (from -r requirements.txt (line 4)) (2.1.7)\n",
            "Requirement already satisfied: dataclasses in /usr/local/lib/python3.7/dist-packages (from -r requirements.txt (line 5)) (0.6)\n",
            "Requirement already satisfied: elasticsearch in /usr/local/lib/python3.7/dist-packages (from -r requirements.txt (line 6)) (8.2.2)\n",
            "Requirement already satisfied: pysocks in /usr/local/lib/python3.7/dist-packages (from -r requirements.txt (line 7)) (1.7.1)\n",
            "Requirement already satisfied: pandas>=0.23.0 in /usr/local/lib/python3.7/dist-packages (from -r requirements.txt (line 8)) (1.3.5)\n",
            "Requirement already satisfied: aiohttp_socks<=0.4.1 in /usr/local/lib/python3.7/dist-packages (from -r requirements.txt (line 9)) (0.4.1)\n",
            "Requirement already satisfied: schedule in /usr/local/lib/python3.7/dist-packages (from -r requirements.txt (line 10)) (1.1.0)\n",
            "Requirement already satisfied: geopy in /usr/local/lib/python3.7/dist-packages (from -r requirements.txt (line 11)) (1.17.0)\n",
            "Requirement already satisfied: fake-useragent in /usr/local/lib/python3.7/dist-packages (from -r requirements.txt (line 12)) (0.1.11)\n",
            "Requirement already satisfied: googletransx in /usr/local/lib/python3.7/dist-packages (from -r requirements.txt (line 13)) (2.4.2)\n",
            "Requirement already satisfied: pytz>=2017.3 in /usr/local/lib/python3.7/dist-packages (from pandas>=0.23.0->-r requirements.txt (line 8)) (2022.1)\n",
            "Requirement already satisfied: numpy>=1.17.3 in /usr/local/lib/python3.7/dist-packages (from pandas>=0.23.0->-r requirements.txt (line 8)) (1.21.6)\n",
            "Requirement already satisfied: python-dateutil>=2.7.3 in /usr/local/lib/python3.7/dist-packages (from pandas>=0.23.0->-r requirements.txt (line 8)) (2.8.2)\n",
            "Requirement already satisfied: attrs>=19.2.0 in /usr/local/lib/python3.7/dist-packages (from aiohttp_socks<=0.4.1->-r requirements.txt (line 9)) (21.4.0)\n",
            "Requirement already satisfied: chardet<4.0,>=2.0 in /usr/local/lib/python3.7/dist-packages (from aiohttp->-r requirements.txt (line 1)) (3.0.4)\n",
            "Requirement already satisfied: yarl<2.0,>=1.0 in /usr/local/lib/python3.7/dist-packages (from aiohttp->-r requirements.txt (line 1)) (1.7.2)\n",
            "Requirement already satisfied: multidict<7.0,>=4.5 in /usr/local/lib/python3.7/dist-packages (from aiohttp->-r requirements.txt (line 1)) (6.0.2)\n",
            "Requirement already satisfied: async-timeout<4.0,>=3.0 in /usr/local/lib/python3.7/dist-packages (from aiohttp->-r requirements.txt (line 1)) (3.0.1)\n",
            "Requirement already satisfied: six>=1.5 in /usr/local/lib/python3.7/dist-packages (from python-dateutil>=2.7.3->pandas>=0.23.0->-r requirements.txt (line 8)) (1.15.0)\n",
            "Requirement already satisfied: typing-extensions>=3.7.4 in /usr/local/lib/python3.7/dist-packages (from yarl<2.0,>=1.0->aiohttp->-r requirements.txt (line 1)) (4.2.0)\n",
            "Requirement already satisfied: idna>=2.0 in /usr/local/lib/python3.7/dist-packages (from yarl<2.0,>=1.0->aiohttp->-r requirements.txt (line 1)) (2.10)\n",
            "Requirement already satisfied: pycares>=4.0.0 in /usr/local/lib/python3.7/dist-packages (from aiodns->-r requirements.txt (line 2)) (4.1.2)\n",
            "Requirement already satisfied: cffi>=1.5.0 in /usr/local/lib/python3.7/dist-packages (from pycares>=4.0.0->aiodns->-r requirements.txt (line 2)) (1.15.0)\n",
            "Requirement already satisfied: pycparser in /usr/local/lib/python3.7/dist-packages (from cffi>=1.5.0->pycares>=4.0.0->aiodns->-r requirements.txt (line 2)) (2.21)\n",
            "Requirement already satisfied: elastic-transport<9,>=8 in /usr/local/lib/python3.7/dist-packages (from elasticsearch->-r requirements.txt (line 6)) (8.1.2)\n",
            "Requirement already satisfied: urllib3<2,>=1.26.2 in /usr/local/lib/python3.7/dist-packages (from elastic-transport<9,>=8->elasticsearch->-r requirements.txt (line 6)) (1.26.9)\n",
            "Requirement already satisfied: certifi in /usr/local/lib/python3.7/dist-packages (from elastic-transport<9,>=8->elasticsearch->-r requirements.txt (line 6)) (2022.5.18.1)\n",
            "Requirement already satisfied: geographiclib<2,>=1.49 in /usr/local/lib/python3.7/dist-packages (from geopy->-r requirements.txt (line 11)) (1.52)\n",
            "Requirement already satisfied: requests in /usr/local/lib/python3.7/dist-packages (from googletransx->-r requirements.txt (line 13)) (2.27.1)\n",
            "Requirement already satisfied: charset-normalizer~=2.0.0 in /usr/local/lib/python3.7/dist-packages (from requests->googletransx->-r requirements.txt (line 13)) (2.0.12)\n",
            "Building wheels for collected packages: twint\n",
            "  Building wheel for twint (setup.py) ... \u001b[?25l\u001b[?25hdone\n",
            "  Created wheel for twint: filename=twint-2.1.21-py3-none-any.whl size=38871 sha256=7862ff56fae9f6a8734dae744e7e5af780944e4e6334f2726ebed2f8d73ed405\n",
            "  Stored in directory: /tmp/pip-ephem-wheel-cache-bxs72kjb/wheels/f7/3e/11/2803f3c6890e87a9bec35bb8e37ef1ad0777a00f43e2441fb1\n",
            "Successfully built twint\n",
            "Installing collected packages: twint\n",
            "  Attempting uninstall: twint\n",
            "    Found existing installation: twint 2.1.21\n",
            "    Uninstalling twint-2.1.21:\n",
            "      Successfully uninstalled twint-2.1.21\n",
            "Successfully installed twint-2.1.21\n"
          ]
        }
      ],
      "source": [
        "!git clone --depth=1 https://github.com/twintproject/twint.git\n",
        "%cd twint\n",
        "!pip3 install . -r requirements.txt"
      ]
    },
    {
      "cell_type": "code",
      "source": [
        "import nest_asyncio\n",
        "nest_asyncio.apply()# used once to enable concurrent actions within a Jupyter notebook."
      ],
      "metadata": {
        "id": "z9pHkIdnt6kJ"
      },
      "execution_count": 2,
      "outputs": []
    },
    {
      "cell_type": "code",
      "source": [
        "!pip install aiohttp==3.7.0"
      ],
      "metadata": {
        "colab": {
          "base_uri": "https://localhost:8080/"
        },
        "id": "_Pv0heGqx9NQ",
        "outputId": "9bdf592e-68af-4024-c56d-b9ce0d86d414"
      },
      "execution_count": 3,
      "outputs": [
        {
          "output_type": "stream",
          "name": "stdout",
          "text": [
            "Looking in indexes: https://pypi.org/simple, https://us-python.pkg.dev/colab-wheels/public/simple/\n",
            "Requirement already satisfied: aiohttp==3.7.0 in /usr/local/lib/python3.7/dist-packages (3.7.0)\n",
            "Requirement already satisfied: yarl<2.0,>=1.0 in /usr/local/lib/python3.7/dist-packages (from aiohttp==3.7.0) (1.7.2)\n",
            "Requirement already satisfied: attrs>=17.3.0 in /usr/local/lib/python3.7/dist-packages (from aiohttp==3.7.0) (21.4.0)\n",
            "Requirement already satisfied: chardet<4.0,>=2.0 in /usr/local/lib/python3.7/dist-packages (from aiohttp==3.7.0) (3.0.4)\n",
            "Requirement already satisfied: async-timeout<4.0,>=3.0 in /usr/local/lib/python3.7/dist-packages (from aiohttp==3.7.0) (3.0.1)\n",
            "Requirement already satisfied: multidict<7.0,>=4.5 in /usr/local/lib/python3.7/dist-packages (from aiohttp==3.7.0) (6.0.2)\n",
            "Requirement already satisfied: idna>=2.0 in /usr/local/lib/python3.7/dist-packages (from yarl<2.0,>=1.0->aiohttp==3.7.0) (2.10)\n",
            "Requirement already satisfied: typing-extensions>=3.7.4 in /usr/local/lib/python3.7/dist-packages (from yarl<2.0,>=1.0->aiohttp==3.7.0) (4.2.0)\n"
          ]
        }
      ]
    },
    {
      "cell_type": "code",
      "source": [
        "import twint "
      ],
      "metadata": {
        "id": "TtA5BNQExtQJ"
      },
      "execution_count": 4,
      "outputs": []
    },
    {
      "cell_type": "markdown",
      "metadata": {
        "id": "TWokAVKgsi1l"
      },
      "source": [
        "### 1. Scrape the tweets of user"
      ]
    },
    {
      "cell_type": "code",
      "execution_count": 5,
      "metadata": {
        "colab": {
          "base_uri": "https://localhost:8080/"
        },
        "id": "shI-8Jsrsi1n",
        "outputId": "1b0d48ee-5593-4769-b561-329b139a7112"
      },
      "outputs": [
        {
          "output_type": "stream",
          "name": "stdout",
          "text": [
            "1533734122446725120 2022-06-06 08:54:44 +0000 <fuckstatistic> @LusterBlackS kim seon ho's voice\n",
            "1533732912838737921 2022-06-06 08:49:56 +0000 <fuckstatistic> 괜찮아요. 무슨 일이 일어나는지 일어날 것입니다. 화이팅!\n",
            "1533727282342158336 2022-06-06 08:27:34 +0000 <fuckstatistic> @txtdigitalnomad masa ibadah bayar, harusnya gratis kan 🙏\n",
            "1533678827980763137 2022-06-06 05:15:01 +0000 <fuckstatistic> @aria_ghora tapi sering jadi syarat buat lulus wkwk\n",
            "1533659248441569281 2022-06-06 03:57:13 +0000 <fuckstatistic> @cyrilcbnw hu'um\n",
            "1533623039946268672 2022-06-06 01:33:20 +0000 <fuckstatistic> mau masuk materi ETL malah ga bisa konsen how how how 😭✊ adakah saran biar stay konsen tanpa terpengaruh apapun ?  *selain ngopi\n",
            "1533435514480496643 2022-06-05 13:08:11 +0000 <fuckstatistic> abstract accepted aaaa thank you god 😭✊  https://t.co/9nS31jAr8P\n",
            "1533416769716531203 2022-06-05 11:53:42 +0000 <fuckstatistic> @LusterBlackS selesein dulu kamu sama masalalu mu, aku ga bisa jadi pelarian/badut lagi. maaf  https://t.co/KtpyKYGVNv\n",
            "1533313593990533120 2022-06-05 05:03:43 +0000 <fuckstatistic> maybe out of all the cast of love I'm just destined to be a clown and runaway. So wouldn't it be better to stop being one of the actors? then focus only on myself.\n",
            "1533278456766574592 2022-06-05 02:44:05 +0000 <fuckstatistic> strolling this weekend makan ✅ petik cheri ✅  https://t.co/0aOsSruMP6\n",
            "1532874966521171968 2022-06-04 00:00:46 +0000 <fuckstatistic> @codingfess yang salah yg sewot nder, dahh lanjut aja\n",
            "1532707462964719616 2022-06-03 12:55:10 +0000 <fuckstatistic> @gadgething 12 dapat kah ?\n",
            "1532707175667466241 2022-06-03 12:54:01 +0000 <fuckstatistic> wow keep halal siri  https://t.co/CnkYwFZBH1\n",
            "1532706653778640897 2022-06-03 12:51:57 +0000 <fuckstatistic> please god, pass accepted at least Q2 😭🙏\n",
            "1532703635313786881 2022-06-03 12:39:57 +0000 <fuckstatistic> @YorisLFC iya betull, ikut programnya juga kah ?\n",
            "1532650416453799941 2022-06-03 09:08:29 +0000 <fuckstatistic> @algonacci okee deh sipp, makasi\n",
            "1532647429031399424 2022-06-03 08:56:36 +0000 <fuckstatistic> @algonacci iyaa\n",
            "1532630619766763520 2022-06-03 07:49:49 +0000 <fuckstatistic> monitor kalo monitor aja tanpa cpu gpu yg kotak hitam itu buat dipake lihat tutorial bisa nyala ga si ? aku bener bener nol pengetahuan kalo urusan pc rakitan 🫠\n",
            "1532628177738006528 2022-06-03 07:40:07 +0000 <fuckstatistic> day 18  https://t.co/IU3BCUBbCj\n",
            "1532592728797634560 2022-06-03 05:19:15 +0000 <fuckstatistic> @codingfess ikuttt\n"
          ]
        }
      ],
      "source": [
        "# Configure\n",
        "c = twint.Config()\n",
        "c.Limit = 1\n",
        "c.Username = \"fuckstatistic\"\n",
        "\n",
        "# Run\n",
        "twint.run.Search(c)"
      ]
    },
    {
      "cell_type": "markdown",
      "metadata": {
        "id": "QK1mcZOesi1p"
      },
      "source": [
        "### 2. Scrape the tweets from specific date"
      ]
    },
    {
      "cell_type": "code",
      "execution_count": 6,
      "metadata": {
        "colab": {
          "base_uri": "https://localhost:8080/"
        },
        "id": "t1Pq7GdYsi1s",
        "outputId": "13b400ff-7c79-4f3b-afa3-f21ed2b1963c"
      },
      "outputs": [
        {
          "output_type": "stream",
          "name": "stdout",
          "text": [
            "[!] No more data! Scraping will stop now.\n",
            "found 0 deleted tweets in this search.\n"
          ]
        }
      ],
      "source": [
        "c = twint.Config()\n",
        "c.Lang = \"en\"\n",
        "c.Username = \"fuckstatistic\"\n",
        "c.Hide_output = True\n",
        "c.Since = '2022-01-01'\n",
        "c.until= '2022-05-01'\n",
        "# Run\n",
        "twint.run.Search(c)\n",
        "weets_df = twint.storage.panda.Tweets_df"
      ]
    },
    {
      "cell_type": "markdown",
      "metadata": {
        "id": "A0_IC-W6si1u"
      },
      "source": [
        "### 3. Scrape tweets for specific search strings"
      ]
    },
    {
      "cell_type": "code",
      "execution_count": 7,
      "metadata": {
        "colab": {
          "base_uri": "https://localhost:8080/"
        },
        "id": "qAT0E5S-si1w",
        "outputId": "6a97ce53-60aa-4ecd-e6cd-2d29fe7b1265"
      },
      "outputs": [
        {
          "output_type": "stream",
          "name": "stdout",
          "text": [
            "[!] No more data! Scraping will stop now.\n",
            "found 0 deleted tweets in this search.\n"
          ]
        }
      ],
      "source": [
        "# Configure\n",
        "c = twint.Config()\n",
        "c.Lang = \"en\"\n",
        "c.Hide_output = True\n",
        "c.Username = \"fuckstatistic\"\n",
        "c.Search = ['code','python']\n",
        "c.Limit = 1\n",
        "# Run\n",
        "twint.run.Search(c)"
      ]
    },
    {
      "cell_type": "markdown",
      "metadata": {
        "id": "LBl7ymh4si1y"
      },
      "source": [
        "### 4. Scrape tweets Images, Videos or Media (images or videos)"
      ]
    },
    {
      "cell_type": "code",
      "execution_count": 8,
      "metadata": {
        "colab": {
          "base_uri": "https://localhost:8080/"
        },
        "id": "lqscEJpEsi1z",
        "outputId": "7f480573-f6b1-4554-ac7d-bd23c7efa14c"
      },
      "outputs": [
        {
          "output_type": "stream",
          "name": "stdout",
          "text": [
            "1533435514480496643 2022-06-05 13:08:11 +0000 <fuckstatistic> abstract accepted aaaa thank you god 😭✊  https://t.co/9nS31jAr8P\n",
            "1533416769716531203 2022-06-05 11:53:42 +0000 <fuckstatistic> @LusterBlackS selesein dulu kamu sama masalalu mu, aku ga bisa jadi pelarian/badut lagi. maaf  https://t.co/KtpyKYGVNv\n",
            "1533278456766574592 2022-06-05 02:44:05 +0000 <fuckstatistic> strolling this weekend makan ✅ petik cheri ✅  https://t.co/0aOsSruMP6\n",
            "1532707175667466241 2022-06-03 12:54:01 +0000 <fuckstatistic> wow keep halal siri  https://t.co/CnkYwFZBH1\n",
            "1532628177738006528 2022-06-03 07:40:07 +0000 <fuckstatistic> day 18  https://t.co/IU3BCUBbCj\n",
            "1532193339386494976 2022-06-02 02:52:13 +0000 <fuckstatistic> morning hunt : breakfast + workspace ygy  https://t.co/R4bVgWY450\n",
            "1531892297880571904 2022-06-01 06:55:59 +0000 <fuckstatistic> @pacmannai wah mantap  https://t.co/06Lqxpx9DZ\n",
            "1530466240929509377 2022-05-28 08:29:21 +0000 <fuckstatistic> strolling this day without code  https://t.co/PqCfEHd2D2\n",
            "1530071359933468672 2022-05-27 06:20:14 +0000 <fuckstatistic> my lil kitties :  https://t.co/12izQ4ebB6\n",
            "1528937052552966145 2022-05-24 03:12:54 +0000 <fuckstatistic> here we go 🙌  https://t.co/E7WbMKVoTU\n",
            "1528617941599928320 2022-05-23 06:04:52 +0000 <fuckstatistic> the workspace vs the people  https://t.co/GqbAp3Ks33\n",
            "1527909899983650817 2022-05-21 07:11:22 +0000 <fuckstatistic> pindah tempat ngodiv  https://t.co/WTVxCX53F6\n",
            "1527618479259496449 2022-05-20 11:53:21 +0000 <fuckstatistic> ✨ strolling this Friday ✨  https://t.co/vvBMRKxFUT\n",
            "1527265379289948164 2022-05-19 12:30:16 +0000 <fuckstatistic> collect international journal abstracts  https://t.co/PW2xuysylB\n"
          ]
        }
      ],
      "source": [
        "# Configure\n",
        "c = twint.Config()\n",
        "c.Username = \"fuckstatistic\"\n",
        "c.Limit = 1\n",
        "#c.Images= True\n",
        "#c.Vidoes = True\n",
        "c.Media = True\n",
        "\n",
        "# Run\n",
        "twint.run.Search(c)"
      ]
    },
    {
      "cell_type": "markdown",
      "metadata": {
        "id": "E959qgMlsi11"
      },
      "source": [
        "### 5. Scrape popular tweets of user"
      ]
    },
    {
      "cell_type": "code",
      "execution_count": 9,
      "metadata": {
        "colab": {
          "base_uri": "https://localhost:8080/"
        },
        "id": "ZFaDEfTLsi12",
        "outputId": "1550c64c-e58c-4c32-9c61-95022a611844"
      },
      "outputs": [
        {
          "output_type": "stream",
          "name": "stdout",
          "text": [
            "1533734122446725120 2022-06-06 08:54:44 +0000 <fuckstatistic> @LusterBlackS kim seon ho's voice\n",
            "1533732912838737921 2022-06-06 08:49:56 +0000 <fuckstatistic> 괜찮아요. 무슨 일이 일어나는지 일어날 것입니다. 화이팅!\n",
            "1533727282342158336 2022-06-06 08:27:34 +0000 <fuckstatistic> @txtdigitalnomad masa ibadah bayar, harusnya gratis kan 🙏\n",
            "1533678827980763137 2022-06-06 05:15:01 +0000 <fuckstatistic> @aria_ghora tapi sering jadi syarat buat lulus wkwk\n",
            "1533659248441569281 2022-06-06 03:57:13 +0000 <fuckstatistic> @cyrilcbnw hu'um\n",
            "1533623039946268672 2022-06-06 01:33:20 +0000 <fuckstatistic> mau masuk materi ETL malah ga bisa konsen how how how 😭✊ adakah saran biar stay konsen tanpa terpengaruh apapun ?  *selain ngopi\n",
            "1533435514480496643 2022-06-05 13:08:11 +0000 <fuckstatistic> abstract accepted aaaa thank you god 😭✊  https://t.co/9nS31jAr8P\n",
            "1533416769716531203 2022-06-05 11:53:42 +0000 <fuckstatistic> @LusterBlackS selesein dulu kamu sama masalalu mu, aku ga bisa jadi pelarian/badut lagi. maaf  https://t.co/KtpyKYGVNv\n",
            "1533313593990533120 2022-06-05 05:03:43 +0000 <fuckstatistic> maybe out of all the cast of love I'm just destined to be a clown and runaway. So wouldn't it be better to stop being one of the actors? then focus only on myself.\n",
            "1533278456766574592 2022-06-05 02:44:05 +0000 <fuckstatistic> strolling this weekend makan ✅ petik cheri ✅  https://t.co/0aOsSruMP6\n",
            "1532874966521171968 2022-06-04 00:00:46 +0000 <fuckstatistic> @codingfess yang salah yg sewot nder, dahh lanjut aja\n",
            "1532707462964719616 2022-06-03 12:55:10 +0000 <fuckstatistic> @gadgething 12 dapat kah ?\n",
            "1532707175667466241 2022-06-03 12:54:01 +0000 <fuckstatistic> wow keep halal siri  https://t.co/CnkYwFZBH1\n",
            "1532706653778640897 2022-06-03 12:51:57 +0000 <fuckstatistic> please god, pass accepted at least Q2 😭🙏\n",
            "1532703635313786881 2022-06-03 12:39:57 +0000 <fuckstatistic> @YorisLFC iya betull, ikut programnya juga kah ?\n",
            "1532650416453799941 2022-06-03 09:08:29 +0000 <fuckstatistic> @algonacci okee deh sipp, makasi\n",
            "1532647429031399424 2022-06-03 08:56:36 +0000 <fuckstatistic> @algonacci iyaa\n",
            "1532630619766763520 2022-06-03 07:49:49 +0000 <fuckstatistic> monitor kalo monitor aja tanpa cpu gpu yg kotak hitam itu buat dipake lihat tutorial bisa nyala ga si ? aku bener bener nol pengetahuan kalo urusan pc rakitan 🫠\n",
            "1532628177738006528 2022-06-03 07:40:07 +0000 <fuckstatistic> day 18  https://t.co/IU3BCUBbCj\n",
            "1532592728797634560 2022-06-03 05:19:15 +0000 <fuckstatistic> @codingfess ikuttt\n"
          ]
        }
      ],
      "source": [
        "import twint\n",
        "\n",
        "# Configure\n",
        "c = twint.Config()\n",
        "c.Username = \"fuckstatistic\"\n",
        "c.Limit = 1\n",
        "c.Popular_tweets = True\n",
        "\n",
        "# Run\n",
        "twint.run.Search(c)"
      ]
    },
    {
      "cell_type": "markdown",
      "metadata": {
        "id": "uWi-CeQpsi13"
      },
      "source": [
        "### 6. Filter scraped tweets based on min likes, min retweets, and min replies"
      ]
    },
    {
      "cell_type": "code",
      "execution_count": 11,
      "metadata": {
        "colab": {
          "base_uri": "https://localhost:8080/"
        },
        "id": "VepeTnmusi14",
        "outputId": "349f8b38-d23d-4302-9c16-7b3c6d26e017"
      },
      "outputs": [
        {
          "output_type": "stream",
          "name": "stdout",
          "text": [
            "1531912893783867393 2022-06-01 08:17:50 +0000 <fuckstatistic> @alpokatmentega keluarga = sumber masalah keluarga kecil = sumber masalah kecil = sumber masalah mati = tidak punya masalah = tenang mati muda = tenang so, pilih yang biru\n"
          ]
        }
      ],
      "source": [
        "c = twint.Config()\n",
        "c.Username = \"fuckstatistic\"\n",
        "c.Limit = 1\n",
        "c.Min_likes = 1\n",
        "c.Min_replies = 1\n",
        "c.Min_retweets = 1\n",
        "\n",
        "twint.run.Search(c)"
      ]
    },
    {
      "cell_type": "markdown",
      "metadata": {
        "id": "kvlTsvX8si15"
      },
      "source": [
        "### 7.  Store as Pandas DataFrame"
      ]
    },
    {
      "cell_type": "code",
      "execution_count": 12,
      "metadata": {
        "colab": {
          "base_uri": "https://localhost:8080/"
        },
        "id": "dBbHH-b6si16",
        "outputId": "81526be3-1f39-456d-c254-cc04213e32dc"
      },
      "outputs": [
        {
          "output_type": "stream",
          "name": "stdout",
          "text": [
            "1533734122446725120 2022-06-06 08:54:44 +0000 <fuckstatistic> @LusterBlackS kim seon ho's voice\n",
            "1533732912838737921 2022-06-06 08:49:56 +0000 <fuckstatistic> 괜찮아요. 무슨 일이 일어나는지 일어날 것입니다. 화이팅!\n",
            "1533727282342158336 2022-06-06 08:27:34 +0000 <fuckstatistic> @txtdigitalnomad masa ibadah bayar, harusnya gratis kan 🙏\n",
            "1533678827980763137 2022-06-06 05:15:01 +0000 <fuckstatistic> @aria_ghora tapi sering jadi syarat buat lulus wkwk\n",
            "1533659248441569281 2022-06-06 03:57:13 +0000 <fuckstatistic> @cyrilcbnw hu'um\n",
            "1533623039946268672 2022-06-06 01:33:20 +0000 <fuckstatistic> mau masuk materi ETL malah ga bisa konsen how how how 😭✊ adakah saran biar stay konsen tanpa terpengaruh apapun ?  *selain ngopi\n",
            "1533435514480496643 2022-06-05 13:08:11 +0000 <fuckstatistic> abstract accepted aaaa thank you god 😭✊  https://t.co/9nS31jAr8P\n",
            "1533416769716531203 2022-06-05 11:53:42 +0000 <fuckstatistic> @LusterBlackS selesein dulu kamu sama masalalu mu, aku ga bisa jadi pelarian/badut lagi. maaf  https://t.co/KtpyKYGVNv\n",
            "1533313593990533120 2022-06-05 05:03:43 +0000 <fuckstatistic> maybe out of all the cast of love I'm just destined to be a clown and runaway. So wouldn't it be better to stop being one of the actors? then focus only on myself.\n",
            "1533278456766574592 2022-06-05 02:44:05 +0000 <fuckstatistic> strolling this weekend makan ✅ petik cheri ✅  https://t.co/0aOsSruMP6\n",
            "1532874966521171968 2022-06-04 00:00:46 +0000 <fuckstatistic> @codingfess yang salah yg sewot nder, dahh lanjut aja\n",
            "1532707462964719616 2022-06-03 12:55:10 +0000 <fuckstatistic> @gadgething 12 dapat kah ?\n",
            "1532707175667466241 2022-06-03 12:54:01 +0000 <fuckstatistic> wow keep halal siri  https://t.co/CnkYwFZBH1\n",
            "1532706653778640897 2022-06-03 12:51:57 +0000 <fuckstatistic> please god, pass accepted at least Q2 😭🙏\n",
            "1532703635313786881 2022-06-03 12:39:57 +0000 <fuckstatistic> @YorisLFC iya betull, ikut programnya juga kah ?\n",
            "1532650416453799941 2022-06-03 09:08:29 +0000 <fuckstatistic> @algonacci okee deh sipp, makasi\n",
            "1532647429031399424 2022-06-03 08:56:36 +0000 <fuckstatistic> @algonacci iyaa\n",
            "1532630619766763520 2022-06-03 07:49:49 +0000 <fuckstatistic> monitor kalo monitor aja tanpa cpu gpu yg kotak hitam itu buat dipake lihat tutorial bisa nyala ga si ? aku bener bener nol pengetahuan kalo urusan pc rakitan 🫠\n",
            "1532628177738006528 2022-06-03 07:40:07 +0000 <fuckstatistic> day 18  https://t.co/IU3BCUBbCj\n",
            "1532592728797634560 2022-06-03 05:19:15 +0000 <fuckstatistic> @codingfess ikuttt\n"
          ]
        }
      ],
      "source": [
        "import twint\n",
        "\n",
        "c = twint.Config()\n",
        "c.Limit = 1\n",
        "c.Username = 'fuckstatistic'\n",
        "c.Pandas = True\n",
        "\n",
        "twint.run.Search(c)\n",
        "\n",
        "Tweets_df = twint.storage.panda.Tweets_df"
      ]
    },
    {
      "cell_type": "code",
      "execution_count": 13,
      "metadata": {
        "colab": {
          "base_uri": "https://localhost:8080/",
          "height": 525
        },
        "id": "5qaV9bE8si18",
        "outputId": "855448d0-86d3-4533-8228-6289c5a96ef1"
      },
      "outputs": [
        {
          "output_type": "execute_result",
          "data": {
            "text/plain": [
              "                    id      conversation_id    created_at  \\\n",
              "0  1533734122446725120  1533732912838737921  1.654506e+12   \n",
              "1  1533732912838737921  1533732912838737921  1.654505e+12   \n",
              "2  1533727282342158336  1533726923703996417  1.654504e+12   \n",
              "3  1533678827980763137  1533677120102473728  1.654493e+12   \n",
              "4  1533659248441569281  1533623039946268672  1.654488e+12   \n",
              "\n",
              "                  date timezone place  \\\n",
              "0  2022-06-06 08:54:44    +0000         \n",
              "1  2022-06-06 08:49:56    +0000         \n",
              "2  2022-06-06 08:27:34    +0000         \n",
              "3  2022-06-06 05:15:01    +0000         \n",
              "4  2022-06-06 03:57:13    +0000         \n",
              "\n",
              "                                               tweet language hashtags  \\\n",
              "0                  @LusterBlackS kim seon ho's voice       en       []   \n",
              "1                   괜찮아요. 무슨 일이 일어나는지 일어날 것입니다. 화이팅!       ko       []   \n",
              "2  @txtdigitalnomad masa ibadah bayar, harusnya g...       in       []   \n",
              "3  @aria_ghora tapi sering jadi syarat buat lulus...       in       []   \n",
              "4                                   @cyrilcbnw hu'um       tr       []   \n",
              "\n",
              "  cashtags  ...  geo source user_rt_id user_rt  retweet_id  \\\n",
              "0       []  ...                                              \n",
              "1       []  ...                                              \n",
              "2       []  ...                                              \n",
              "3       []  ...                                              \n",
              "4       []  ...                                              \n",
              "\n",
              "                                            reply_to retweet_date translate  \\\n",
              "0  [{'screen_name': 'LusterBlackS', 'name': 'Endy...                          \n",
              "1                                                 []                          \n",
              "2  [{'screen_name': 'txtdigitalnomad', 'name': 'P...                          \n",
              "3  [{'screen_name': 'aria_ghora', 'name': 'Aria G...                          \n",
              "4  [{'screen_name': 'cyrilcbnw', 'name': 'chondot...                          \n",
              "\n",
              "  trans_src  trans_dest  \n",
              "0                        \n",
              "1                        \n",
              "2                        \n",
              "3                        \n",
              "4                        \n",
              "\n",
              "[5 rows x 38 columns]"
            ],
            "text/html": [
              "\n",
              "  <div id=\"df-51eea0e9-f573-4438-bc38-1834ea3a0f0b\">\n",
              "    <div class=\"colab-df-container\">\n",
              "      <div>\n",
              "<style scoped>\n",
              "    .dataframe tbody tr th:only-of-type {\n",
              "        vertical-align: middle;\n",
              "    }\n",
              "\n",
              "    .dataframe tbody tr th {\n",
              "        vertical-align: top;\n",
              "    }\n",
              "\n",
              "    .dataframe thead th {\n",
              "        text-align: right;\n",
              "    }\n",
              "</style>\n",
              "<table border=\"1\" class=\"dataframe\">\n",
              "  <thead>\n",
              "    <tr style=\"text-align: right;\">\n",
              "      <th></th>\n",
              "      <th>id</th>\n",
              "      <th>conversation_id</th>\n",
              "      <th>created_at</th>\n",
              "      <th>date</th>\n",
              "      <th>timezone</th>\n",
              "      <th>place</th>\n",
              "      <th>tweet</th>\n",
              "      <th>language</th>\n",
              "      <th>hashtags</th>\n",
              "      <th>cashtags</th>\n",
              "      <th>...</th>\n",
              "      <th>geo</th>\n",
              "      <th>source</th>\n",
              "      <th>user_rt_id</th>\n",
              "      <th>user_rt</th>\n",
              "      <th>retweet_id</th>\n",
              "      <th>reply_to</th>\n",
              "      <th>retweet_date</th>\n",
              "      <th>translate</th>\n",
              "      <th>trans_src</th>\n",
              "      <th>trans_dest</th>\n",
              "    </tr>\n",
              "  </thead>\n",
              "  <tbody>\n",
              "    <tr>\n",
              "      <th>0</th>\n",
              "      <td>1533734122446725120</td>\n",
              "      <td>1533732912838737921</td>\n",
              "      <td>1.654506e+12</td>\n",
              "      <td>2022-06-06 08:54:44</td>\n",
              "      <td>+0000</td>\n",
              "      <td></td>\n",
              "      <td>@LusterBlackS kim seon ho's voice</td>\n",
              "      <td>en</td>\n",
              "      <td>[]</td>\n",
              "      <td>[]</td>\n",
              "      <td>...</td>\n",
              "      <td></td>\n",
              "      <td></td>\n",
              "      <td></td>\n",
              "      <td></td>\n",
              "      <td></td>\n",
              "      <td>[{'screen_name': 'LusterBlackS', 'name': 'Endy...</td>\n",
              "      <td></td>\n",
              "      <td></td>\n",
              "      <td></td>\n",
              "      <td></td>\n",
              "    </tr>\n",
              "    <tr>\n",
              "      <th>1</th>\n",
              "      <td>1533732912838737921</td>\n",
              "      <td>1533732912838737921</td>\n",
              "      <td>1.654505e+12</td>\n",
              "      <td>2022-06-06 08:49:56</td>\n",
              "      <td>+0000</td>\n",
              "      <td></td>\n",
              "      <td>괜찮아요. 무슨 일이 일어나는지 일어날 것입니다. 화이팅!</td>\n",
              "      <td>ko</td>\n",
              "      <td>[]</td>\n",
              "      <td>[]</td>\n",
              "      <td>...</td>\n",
              "      <td></td>\n",
              "      <td></td>\n",
              "      <td></td>\n",
              "      <td></td>\n",
              "      <td></td>\n",
              "      <td>[]</td>\n",
              "      <td></td>\n",
              "      <td></td>\n",
              "      <td></td>\n",
              "      <td></td>\n",
              "    </tr>\n",
              "    <tr>\n",
              "      <th>2</th>\n",
              "      <td>1533727282342158336</td>\n",
              "      <td>1533726923703996417</td>\n",
              "      <td>1.654504e+12</td>\n",
              "      <td>2022-06-06 08:27:34</td>\n",
              "      <td>+0000</td>\n",
              "      <td></td>\n",
              "      <td>@txtdigitalnomad masa ibadah bayar, harusnya g...</td>\n",
              "      <td>in</td>\n",
              "      <td>[]</td>\n",
              "      <td>[]</td>\n",
              "      <td>...</td>\n",
              "      <td></td>\n",
              "      <td></td>\n",
              "      <td></td>\n",
              "      <td></td>\n",
              "      <td></td>\n",
              "      <td>[{'screen_name': 'txtdigitalnomad', 'name': 'P...</td>\n",
              "      <td></td>\n",
              "      <td></td>\n",
              "      <td></td>\n",
              "      <td></td>\n",
              "    </tr>\n",
              "    <tr>\n",
              "      <th>3</th>\n",
              "      <td>1533678827980763137</td>\n",
              "      <td>1533677120102473728</td>\n",
              "      <td>1.654493e+12</td>\n",
              "      <td>2022-06-06 05:15:01</td>\n",
              "      <td>+0000</td>\n",
              "      <td></td>\n",
              "      <td>@aria_ghora tapi sering jadi syarat buat lulus...</td>\n",
              "      <td>in</td>\n",
              "      <td>[]</td>\n",
              "      <td>[]</td>\n",
              "      <td>...</td>\n",
              "      <td></td>\n",
              "      <td></td>\n",
              "      <td></td>\n",
              "      <td></td>\n",
              "      <td></td>\n",
              "      <td>[{'screen_name': 'aria_ghora', 'name': 'Aria G...</td>\n",
              "      <td></td>\n",
              "      <td></td>\n",
              "      <td></td>\n",
              "      <td></td>\n",
              "    </tr>\n",
              "    <tr>\n",
              "      <th>4</th>\n",
              "      <td>1533659248441569281</td>\n",
              "      <td>1533623039946268672</td>\n",
              "      <td>1.654488e+12</td>\n",
              "      <td>2022-06-06 03:57:13</td>\n",
              "      <td>+0000</td>\n",
              "      <td></td>\n",
              "      <td>@cyrilcbnw hu'um</td>\n",
              "      <td>tr</td>\n",
              "      <td>[]</td>\n",
              "      <td>[]</td>\n",
              "      <td>...</td>\n",
              "      <td></td>\n",
              "      <td></td>\n",
              "      <td></td>\n",
              "      <td></td>\n",
              "      <td></td>\n",
              "      <td>[{'screen_name': 'cyrilcbnw', 'name': 'chondot...</td>\n",
              "      <td></td>\n",
              "      <td></td>\n",
              "      <td></td>\n",
              "      <td></td>\n",
              "    </tr>\n",
              "  </tbody>\n",
              "</table>\n",
              "<p>5 rows × 38 columns</p>\n",
              "</div>\n",
              "      <button class=\"colab-df-convert\" onclick=\"convertToInteractive('df-51eea0e9-f573-4438-bc38-1834ea3a0f0b')\"\n",
              "              title=\"Convert this dataframe to an interactive table.\"\n",
              "              style=\"display:none;\">\n",
              "        \n",
              "  <svg xmlns=\"http://www.w3.org/2000/svg\" height=\"24px\"viewBox=\"0 0 24 24\"\n",
              "       width=\"24px\">\n",
              "    <path d=\"M0 0h24v24H0V0z\" fill=\"none\"/>\n",
              "    <path d=\"M18.56 5.44l.94 2.06.94-2.06 2.06-.94-2.06-.94-.94-2.06-.94 2.06-2.06.94zm-11 1L8.5 8.5l.94-2.06 2.06-.94-2.06-.94L8.5 2.5l-.94 2.06-2.06.94zm10 10l.94 2.06.94-2.06 2.06-.94-2.06-.94-.94-2.06-.94 2.06-2.06.94z\"/><path d=\"M17.41 7.96l-1.37-1.37c-.4-.4-.92-.59-1.43-.59-.52 0-1.04.2-1.43.59L10.3 9.45l-7.72 7.72c-.78.78-.78 2.05 0 2.83L4 21.41c.39.39.9.59 1.41.59.51 0 1.02-.2 1.41-.59l7.78-7.78 2.81-2.81c.8-.78.8-2.07 0-2.86zM5.41 20L4 18.59l7.72-7.72 1.47 1.35L5.41 20z\"/>\n",
              "  </svg>\n",
              "      </button>\n",
              "      \n",
              "  <style>\n",
              "    .colab-df-container {\n",
              "      display:flex;\n",
              "      flex-wrap:wrap;\n",
              "      gap: 12px;\n",
              "    }\n",
              "\n",
              "    .colab-df-convert {\n",
              "      background-color: #E8F0FE;\n",
              "      border: none;\n",
              "      border-radius: 50%;\n",
              "      cursor: pointer;\n",
              "      display: none;\n",
              "      fill: #1967D2;\n",
              "      height: 32px;\n",
              "      padding: 0 0 0 0;\n",
              "      width: 32px;\n",
              "    }\n",
              "\n",
              "    .colab-df-convert:hover {\n",
              "      background-color: #E2EBFA;\n",
              "      box-shadow: 0px 1px 2px rgba(60, 64, 67, 0.3), 0px 1px 3px 1px rgba(60, 64, 67, 0.15);\n",
              "      fill: #174EA6;\n",
              "    }\n",
              "\n",
              "    [theme=dark] .colab-df-convert {\n",
              "      background-color: #3B4455;\n",
              "      fill: #D2E3FC;\n",
              "    }\n",
              "\n",
              "    [theme=dark] .colab-df-convert:hover {\n",
              "      background-color: #434B5C;\n",
              "      box-shadow: 0px 1px 3px 1px rgba(0, 0, 0, 0.15);\n",
              "      filter: drop-shadow(0px 1px 2px rgba(0, 0, 0, 0.3));\n",
              "      fill: #FFFFFF;\n",
              "    }\n",
              "  </style>\n",
              "\n",
              "      <script>\n",
              "        const buttonEl =\n",
              "          document.querySelector('#df-51eea0e9-f573-4438-bc38-1834ea3a0f0b button.colab-df-convert');\n",
              "        buttonEl.style.display =\n",
              "          google.colab.kernel.accessAllowed ? 'block' : 'none';\n",
              "\n",
              "        async function convertToInteractive(key) {\n",
              "          const element = document.querySelector('#df-51eea0e9-f573-4438-bc38-1834ea3a0f0b');\n",
              "          const dataTable =\n",
              "            await google.colab.kernel.invokeFunction('convertToInteractive',\n",
              "                                                     [key], {});\n",
              "          if (!dataTable) return;\n",
              "\n",
              "          const docLinkHtml = 'Like what you see? Visit the ' +\n",
              "            '<a target=\"_blank\" href=https://colab.research.google.com/notebooks/data_table.ipynb>data table notebook</a>'\n",
              "            + ' to learn more about interactive tables.';\n",
              "          element.innerHTML = '';\n",
              "          dataTable['output_type'] = 'display_data';\n",
              "          await google.colab.output.renderOutput(dataTable, element);\n",
              "          const docLink = document.createElement('div');\n",
              "          docLink.innerHTML = docLinkHtml;\n",
              "          element.appendChild(docLink);\n",
              "        }\n",
              "      </script>\n",
              "    </div>\n",
              "  </div>\n",
              "  "
            ]
          },
          "metadata": {},
          "execution_count": 13
        }
      ],
      "source": [
        "Tweets_df.head()"
      ]
    },
    {
      "cell_type": "code",
      "execution_count": 14,
      "metadata": {
        "colab": {
          "base_uri": "https://localhost:8080/"
        },
        "id": "4A65tZEosi18",
        "outputId": "9cb2203a-a305-42d8-f0ac-eacad130e152"
      },
      "outputs": [
        {
          "output_type": "stream",
          "name": "stdout",
          "text": [
            "<class 'pandas.core.frame.DataFrame'>\n",
            "RangeIndex: 20 entries, 0 to 19\n",
            "Data columns (total 38 columns):\n",
            " #   Column           Non-Null Count  Dtype  \n",
            "---  ------           --------------  -----  \n",
            " 0   id               20 non-null     object \n",
            " 1   conversation_id  20 non-null     object \n",
            " 2   created_at       20 non-null     float64\n",
            " 3   date             20 non-null     object \n",
            " 4   timezone         20 non-null     object \n",
            " 5   place            20 non-null     object \n",
            " 6   tweet            20 non-null     object \n",
            " 7   language         20 non-null     object \n",
            " 8   hashtags         20 non-null     object \n",
            " 9   cashtags         20 non-null     object \n",
            " 10  user_id          20 non-null     int64  \n",
            " 11  user_id_str      20 non-null     object \n",
            " 12  username         20 non-null     object \n",
            " 13  name             20 non-null     object \n",
            " 14  day              20 non-null     int64  \n",
            " 15  hour             20 non-null     object \n",
            " 16  link             20 non-null     object \n",
            " 17  urls             20 non-null     object \n",
            " 18  photos           20 non-null     object \n",
            " 19  video            20 non-null     int64  \n",
            " 20  thumbnail        20 non-null     object \n",
            " 21  retweet          20 non-null     bool   \n",
            " 22  nlikes           20 non-null     int64  \n",
            " 23  nreplies         20 non-null     int64  \n",
            " 24  nretweets        20 non-null     int64  \n",
            " 25  quote_url        20 non-null     object \n",
            " 26  search           20 non-null     object \n",
            " 27  near             20 non-null     object \n",
            " 28  geo              20 non-null     object \n",
            " 29  source           20 non-null     object \n",
            " 30  user_rt_id       20 non-null     object \n",
            " 31  user_rt          20 non-null     object \n",
            " 32  retweet_id       20 non-null     object \n",
            " 33  reply_to         20 non-null     object \n",
            " 34  retweet_date     20 non-null     object \n",
            " 35  translate        20 non-null     object \n",
            " 36  trans_src        20 non-null     object \n",
            " 37  trans_dest       20 non-null     object \n",
            "dtypes: bool(1), float64(1), int64(6), object(30)\n",
            "memory usage: 5.9+ KB\n"
          ]
        }
      ],
      "source": [
        "Tweets_df.info()"
      ]
    },
    {
      "cell_type": "markdown",
      "metadata": {
        "id": "OGOVCUIksi1-"
      },
      "source": [
        "### 8. Scrape hashtags"
      ]
    },
    {
      "cell_type": "code",
      "execution_count": 15,
      "metadata": {
        "colab": {
          "base_uri": "https://localhost:8080/"
        },
        "id": "tvGtPvxMsi1-",
        "outputId": "bb25bf76-3315-4d5d-f043-5b9699f60a91"
      },
      "outputs": [
        {
          "output_type": "stream",
          "name": "stdout",
          "text": [
            "1533774024882343937 2022-06-06 11:33:18 +0000 <__Ghostman> Day 8 of #100DaysOfCode   - Learned how to compile smart contracts locally using solcjs. - Revised async/await and some other javascript concepts.\n",
            "1533773820154327041 2022-06-06 11:32:29 +0000 <dotnetforall> Achieving Loose Coupling using Dependency Injection #programmer #programming #dotnetforall #100DaysOfCode #DEVCommunity   https://t.co/Q3wXGcfu5j\n",
            "1533773452351619072 2022-06-06 11:31:01 +0000 <harsh_kashiwal> CSS Positioning Explained 👇  → Relative - the element is positioned relative to its normal position.  → Absolute - the element is positioned absolutely to its first positioned parent  #100DaysOfCode #javascript #webdevelopment  https://t.co/VqU3iBjNwC\n",
            "1533773446349434880 2022-06-06 11:31:00 +0000 <_emilycodes> Day 2 of #100DaysOfCode:  ☑️ Learnt CSS Flexbox by building a photo gallery on freeCodeCamp ☑️ Learnt the difference between relative, absolute, fixed and sticky positioning, and block, inline and inline-block display\n",
            "1533773376791224320 2022-06-06 11:30:43 +0000 <DG__SAGA> #Google introduces three new #travel products for hotels:  https://t.co/Juy2d4Yaub  Via @Google Cc @CurieuxExplorer @TanyaSinha_  #DGsaga #coding #programmer #Developer #flutter #javascript #NodeJS #Java #100DaysOfCode #Python #RStats #AI #Serverless #DL #HTML5 #MachineLearning\n",
            "1533773246738440192 2022-06-06 11:30:12 +0000 <CsTrekker> You're not in KANSAS anymore! You're in the JavaScript Temporal Dead Zone!  https://t.co/7Ekd4SQBzi #javascript #webdev #webdevelopment #webdeveloper #webdevelopers #programmers #programming #100DaysOfCode  https://t.co/xWOwJt1XWC\n",
            "1533773194519146496 2022-06-06 11:30:00 +0000 <charith_nr> R6 Day 44 #100DaysOfCode #UnrealEngine5 #gamedev #indiedev #indiegame   What's up, everyone! 🤘  Light Update! -Added the stylized wind effect! -Customizable through particle parameters! -Wind will be included in the gameplay mechanics!  I'm lovin' this effect so much! 😍  https://t.co/8I1rgkj6Uf\n",
            "1533773187493859328 2022-06-06 11:29:58 +0000 <ashabaheebwa> Day 11 of #100DaysOfCode #100daysofpython  -Did a capstone project in terms of a Black Jack game. -Practiced all concepts i had learned in the last 10 days.  https://t.co/yEjpXuAS5T\n",
            "1533773182460641280 2022-06-06 11:29:57 +0000 <_Omphe> #100DaysOfCode  Day 15/100 Understanding the basic data types in Python is essential to understand what kind of data you’re working with.  https://t.co/7CWlzL1yL3\n",
            "1533773180241944578 2022-06-06 11:29:56 +0000 <darkweb766> 10 Tech Skills in demand  1. Machine Learning 2. Mobile Development 3. SEO/SEM Marketing 4. Data Visualization 5. Data Engineering 6. UI/UX Design 7. Cyber-security 8. Cloud Computing/AWS 9. Blockchain 10. IOT  #coding #100DaysOfCode\n",
            "1533773011077193733 2022-06-06 11:29:16 +0000 <dotnetforall> #programmer #programming #dotnetforall #100DaysOfCode #DEVCommunity   https://t.co/J3DLLwe600\n",
            "1533772802557239296 2022-06-06 11:28:26 +0000 <AvnishBharadva8> #day92 of #365DaysOfCode with @scaler_official   #scalerdiscord #Coding #100DaysOfCode  https://t.co/PD1vPVlxBN\n",
            "1533772695233789952 2022-06-06 11:28:01 +0000 <DigitalEdwyn> Best Artificial Intelligence Books for Beginners in 2022. #BigData #Analytics #DataScience #IoT #IIoT #Python #RStats #TensorFlow @gp_pulipaka #CloudComputing #Serverless #DataScientist  #Books #Programming #Coding #100DaysofCode   https://t.co/Hmbrvg55lL  https://t.co/cdZyqdWyKF\n",
            "1533772678531784704 2022-06-06 11:27:57 +0000 <IyanuOwoyele> Today,I finally created a road map for my flutter journey, I think it's very important to have a map when learning something as it gives a clear path towards one's goals.  #100DaysOfCode #map #roadmap #flutter #dev #flutterdev #YouTube @Flutter_Africa @FlutterLagos @DartCode #UI  https://t.co/AjTybYxQ0B\n",
            "1533772569643565056 2022-06-06 11:27:31 +0000 <EricThePastor> #100DaysOfCode\n",
            "1533772458016514048 2022-06-06 11:27:04 +0000 <WMxN9Azovvn8Yov> #100DaysOfCode #Railsチュートリアル Day54 エラーシステムを作る パーシャルって便利だん\n",
            "1533772321332244480 2022-06-06 11:26:32 +0000 <DevtronL> Prove to us that you can win an Apple watch as easily as deploying a #CICD pipeline on Devtron.  Register for the CICD Quiz here:  https://t.co/vAmsg4GCAb  #DevOps #Kubernetes #OpenSource #CloudNative #DeveloperQuiz #100DaysOfCode @KonfHub  https://t.co/HmwBL4rTyX\n",
            "1533771950136430592 2022-06-06 11:25:03 +0000 <TiinyHost> Doing #100DaysOfCode?  Should  https://t.co/zaIlHp7XA1 give you free web hosting for 100 days?\n",
            "1533771633185415169 2022-06-06 11:23:48 +0000 <JavaScriptFeed> Vue Use State Effect via @itnext_io  #javascript #vuejs #nuxtjs #programming #typescript #100daysofcode #webdev #webdevelopment  https://t.co/nZsrfbmVKd\n",
            "1533771322731515906 2022-06-06 11:22:34 +0000 <codelikeart> Happy Monday!  For many of you it is the start of your week for me it’s just another day to #code.  What are you working on the week?  #100DaysOfCode #dev #query  #HappyMonday\n",
            "1533771245539700737 2022-06-06 11:22:15 +0000 <DhirajTiwari2> Invicti Professional Edition 6.5.0.35961 Full Activated - CyberSecurity Tools - Discount 100% OFF  https://t.co/59XQGxMyJG #infosec #bugcrowd #bugbountytips #bugbountytip #CyberSecurity #100DaysOfCode #Malware #CodeNewbie #BugHunter #Javascript via @3XS0\n"
          ]
        }
      ],
      "source": [
        "c = twint.Config()\n",
        "c.Search = '#100daysofcode'\n",
        "c.Limit = 20\n",
        "twint.run.Search(c)"
      ]
    },
    {
      "cell_type": "markdown",
      "metadata": {
        "id": "MXQf4whWsi1_"
      },
      "source": [
        "### 9. Display the tweet"
      ]
    },
    {
      "cell_type": "code",
      "execution_count": 16,
      "metadata": {
        "id": "3Rw_ZfTtsi2A"
      },
      "outputs": [],
      "source": [
        "from IPython.display import HTML\n",
        "import requests\n",
        "\n",
        "def show_tweet(link):\n",
        "    '''Display the contents of a tweet. '''\n",
        "    url = 'https://publish.twitter.com/oembed?url=%s' % link\n",
        "    response = requests.get(url)\n",
        "    html = response.json()[\"html\"]\n",
        "    display(HTML(html))"
      ]
    },
    {
      "cell_type": "code",
      "execution_count": 17,
      "metadata": {
        "colab": {
          "base_uri": "https://localhost:8080/",
          "height": 359
        },
        "id": "ZqO_4a-9si2B",
        "outputId": "855bd90c-5791-40d8-ff61-d4a46b48cc9c"
      },
      "outputs": [
        {
          "output_type": "display_data",
          "data": {
            "text/plain": [
              "'https://twitter.com/fuckstatistic/status/1532592728797634560'"
            ],
            "application/vnd.google.colaboratory.intrinsic+json": {
              "type": "string"
            }
          },
          "metadata": {}
        },
        {
          "output_type": "display_data",
          "data": {
            "text/plain": [
              "<IPython.core.display.HTML object>"
            ],
            "text/html": [
              "<blockquote class=\"twitter-tweet\"><p lang=\"in\" dir=\"ltr\">ikuttt</p>&mdash; vyv (@fuckstatistic) <a href=\"https://twitter.com/fuckstatistic/status/1532592728797634560?ref_src=twsrc%5Etfw\">June 3, 2022</a></blockquote>\n",
              "<script async src=\"https://platform.twitter.com/widgets.js\" charset=\"utf-8\"></script>\n"
            ]
          },
          "metadata": {}
        }
      ],
      "source": [
        "sample_tweet_link = Tweets_df.sample(1)['link'].values[0]\n",
        "display(sample_tweet_link)\n",
        "show_tweet(sample_tweet_link)"
      ]
    },
    {
      "cell_type": "code",
      "execution_count": 18,
      "metadata": {
        "colab": {
          "base_uri": "https://localhost:8080/",
          "height": 1000
        },
        "id": "RCkSzR4rsi2C",
        "outputId": "2102074a-c7fa-4c46-fa1c-d7c8b0e75010"
      },
      "outputs": [
        {
          "output_type": "stream",
          "name": "stdout",
          "text": [
            "* * * * * * * * * * * * * * * * * * * \n"
          ]
        },
        {
          "output_type": "display_data",
          "data": {
            "text/plain": [
              "<IPython.core.display.HTML object>"
            ],
            "text/html": [
              "<blockquote class=\"twitter-tweet\"><p lang=\"en\" dir=\"ltr\">kim seon ho&#39;s voice</p>&mdash; vyv (@fuckstatistic) <a href=\"https://twitter.com/fuckstatistic/status/1533734122446725120?ref_src=twsrc%5Etfw\">June 6, 2022</a></blockquote>\n",
              "<script async src=\"https://platform.twitter.com/widgets.js\" charset=\"utf-8\"></script>\n"
            ]
          },
          "metadata": {}
        },
        {
          "output_type": "stream",
          "name": "stdout",
          "text": [
            "* * * * * * * * * * * * * * * * * * * \n"
          ]
        },
        {
          "output_type": "display_data",
          "data": {
            "text/plain": [
              "<IPython.core.display.HTML object>"
            ],
            "text/html": [
              "<blockquote class=\"twitter-tweet\"><p lang=\"ko\" dir=\"ltr\">괜찮아요. 무슨 일이 일어나는지 일어날 것입니다. 화이팅!</p>&mdash; vyv (@fuckstatistic) <a href=\"https://twitter.com/fuckstatistic/status/1533732912838737921?ref_src=twsrc%5Etfw\">June 6, 2022</a></blockquote>\n",
              "<script async src=\"https://platform.twitter.com/widgets.js\" charset=\"utf-8\"></script>\n"
            ]
          },
          "metadata": {}
        },
        {
          "output_type": "stream",
          "name": "stdout",
          "text": [
            "* * * * * * * * * * * * * * * * * * * \n"
          ]
        },
        {
          "output_type": "display_data",
          "data": {
            "text/plain": [
              "<IPython.core.display.HTML object>"
            ],
            "text/html": [
              "<blockquote class=\"twitter-tweet\"><p lang=\"und\" dir=\"ltr\">day 18 <a href=\"https://t.co/IU3BCUBbCj\">pic.twitter.com/IU3BCUBbCj</a></p>&mdash; vyv (@fuckstatistic) <a href=\"https://twitter.com/fuckstatistic/status/1532628177738006528?ref_src=twsrc%5Etfw\">June 3, 2022</a></blockquote>\n",
              "<script async src=\"https://platform.twitter.com/widgets.js\" charset=\"utf-8\"></script>\n"
            ]
          },
          "metadata": {}
        },
        {
          "output_type": "stream",
          "name": "stdout",
          "text": [
            "* * * * * * * * * * * * * * * * * * * \n"
          ]
        },
        {
          "output_type": "display_data",
          "data": {
            "text/plain": [
              "<IPython.core.display.HTML object>"
            ],
            "text/html": [
              "<blockquote class=\"twitter-tweet\"><p lang=\"in\" dir=\"ltr\">monitor kalo monitor aja tanpa cpu gpu yg kotak hitam itu buat dipake lihat tutorial bisa nyala ga si ? aku bener bener nol pengetahuan kalo urusan pc rakitan 🫠</p>&mdash; vyv (@fuckstatistic) <a href=\"https://twitter.com/fuckstatistic/status/1532630619766763520?ref_src=twsrc%5Etfw\">June 3, 2022</a></blockquote>\n",
              "<script async src=\"https://platform.twitter.com/widgets.js\" charset=\"utf-8\"></script>\n"
            ]
          },
          "metadata": {}
        },
        {
          "output_type": "stream",
          "name": "stdout",
          "text": [
            "* * * * * * * * * * * * * * * * * * * \n"
          ]
        },
        {
          "output_type": "display_data",
          "data": {
            "text/plain": [
              "<IPython.core.display.HTML object>"
            ],
            "text/html": [
              "<blockquote class=\"twitter-tweet\"><p lang=\"in\" dir=\"ltr\">iyaa</p>&mdash; vyv (@fuckstatistic) <a href=\"https://twitter.com/fuckstatistic/status/1532647429031399424?ref_src=twsrc%5Etfw\">June 3, 2022</a></blockquote>\n",
              "<script async src=\"https://platform.twitter.com/widgets.js\" charset=\"utf-8\"></script>\n"
            ]
          },
          "metadata": {}
        }
      ],
      "source": [
        "rt_links = Tweets_df.sort_values(by= 'nretweets', ascending = False)['link'].values\n",
        "\n",
        "for url in rt_links[:5]:\n",
        "    print('* ' * 19)\n",
        "    show_tweet(url)"
      ]
    },
    {
      "cell_type": "markdown",
      "metadata": {
        "id": "5SBwa82jsi2D"
      },
      "source": [
        "### 10. Modular Function"
      ]
    },
    {
      "cell_type": "code",
      "execution_count": 19,
      "metadata": {
        "id": "mOdqLgr9si2E"
      },
      "outputs": [],
      "source": [
        "def scrape_user():\n",
        "    print (\"Fetching Tweets\")\n",
        "    c = twint.Config()\n",
        "    c.Lang = \"en\"\n",
        "    # choose username (optional)\n",
        "    c.Username = input('Username: ') # I used a different account for this project. Changed the username to protect the user's privacy.\n",
        "    # choose beginning time (narrow results)\n",
        "    c.Since = input('Date (format: \"%Y-%m-%d %H:%M:%S\"): ')\n",
        "    c.Pandas = True\n",
        "       \n",
        "    twint.run.Search(c)\n",
        "    Tweets_df = twint.storage.panda.Tweets_df\n",
        "    return( Tweets_df)"
      ]
    },
    {
      "cell_type": "code",
      "execution_count": 22,
      "metadata": {
        "colab": {
          "base_uri": "https://localhost:8080/"
        },
        "id": "pcLYyH6Nsi2F",
        "outputId": "bcb5641f-e1e5-4007-d647-8cdcf5640e47"
      },
      "outputs": [
        {
          "output_type": "stream",
          "name": "stdout",
          "text": [
            "Fetching Tweets\n",
            "Username: fuckstatistic\n",
            "Date (format: \"%Y-%m-%d %H:%M:%S\"): 2002-06-06 18:41:00\n",
            "1533734122446725120 2022-06-06 08:54:44 +0000 <fuckstatistic> @LusterBlackS kim seon ho's voice\n",
            "1533732912838737921 2022-06-06 08:49:56 +0000 <fuckstatistic> 괜찮아요. 무슨 일이 일어나는지 일어날 것입니다. 화이팅!\n",
            "1533727282342158336 2022-06-06 08:27:34 +0000 <fuckstatistic> @txtdigitalnomad masa ibadah bayar, harusnya gratis kan 🙏\n",
            "1533678827980763137 2022-06-06 05:15:01 +0000 <fuckstatistic> @aria_ghora tapi sering jadi syarat buat lulus wkwk\n",
            "1533659248441569281 2022-06-06 03:57:13 +0000 <fuckstatistic> @cyrilcbnw hu'um\n",
            "1533623039946268672 2022-06-06 01:33:20 +0000 <fuckstatistic> mau masuk materi ETL malah ga bisa konsen how how how 😭✊ adakah saran biar stay konsen tanpa terpengaruh apapun ?  *selain ngopi\n",
            "1533435514480496643 2022-06-05 13:08:11 +0000 <fuckstatistic> abstract accepted aaaa thank you god 😭✊  https://t.co/9nS31jAr8P\n",
            "1533416769716531203 2022-06-05 11:53:42 +0000 <fuckstatistic> @LusterBlackS selesein dulu kamu sama masalalu mu, aku ga bisa jadi pelarian/badut lagi. maaf  https://t.co/KtpyKYGVNv\n",
            "1533313593990533120 2022-06-05 05:03:43 +0000 <fuckstatistic> maybe out of all the cast of love I'm just destined to be a clown and runaway. So wouldn't it be better to stop being one of the actors? then focus only on myself.\n",
            "1533278456766574592 2022-06-05 02:44:05 +0000 <fuckstatistic> strolling this weekend makan ✅ petik cheri ✅  https://t.co/0aOsSruMP6\n",
            "1532874966521171968 2022-06-04 00:00:46 +0000 <fuckstatistic> @codingfess yang salah yg sewot nder, dahh lanjut aja\n",
            "1532707462964719616 2022-06-03 12:55:10 +0000 <fuckstatistic> @gadgething 12 dapat kah ?\n",
            "1532707175667466241 2022-06-03 12:54:01 +0000 <fuckstatistic> wow keep halal siri  https://t.co/CnkYwFZBH1\n",
            "1532706653778640897 2022-06-03 12:51:57 +0000 <fuckstatistic> please god, pass accepted at least Q2 😭🙏\n",
            "1532703635313786881 2022-06-03 12:39:57 +0000 <fuckstatistic> @YorisLFC iya betull, ikut programnya juga kah ?\n",
            "1532650416453799941 2022-06-03 09:08:29 +0000 <fuckstatistic> @algonacci okee deh sipp, makasi\n",
            "1532647429031399424 2022-06-03 08:56:36 +0000 <fuckstatistic> @algonacci iyaa\n",
            "1532630619766763520 2022-06-03 07:49:49 +0000 <fuckstatistic> monitor kalo monitor aja tanpa cpu gpu yg kotak hitam itu buat dipake lihat tutorial bisa nyala ga si ? aku bener bener nol pengetahuan kalo urusan pc rakitan 🫠\n",
            "1532628177738006528 2022-06-03 07:40:07 +0000 <fuckstatistic> day 18  https://t.co/IU3BCUBbCj\n",
            "1532592728797634560 2022-06-03 05:19:15 +0000 <fuckstatistic> @codingfess ikuttt\n",
            "1532193339386494976 2022-06-02 02:52:13 +0000 <fuckstatistic> morning hunt : breakfast + workspace ygy  https://t.co/R4bVgWY450\n",
            "1531912893783867393 2022-06-01 08:17:50 +0000 <fuckstatistic> @alpokatmentega keluarga = sumber masalah keluarga kecil = sumber masalah kecil = sumber masalah mati = tidak punya masalah = tenang mati muda = tenang so, pilih yang biru\n",
            "1531892297880571904 2022-06-01 06:55:59 +0000 <fuckstatistic> @pacmannai wah mantap  https://t.co/06Lqxpx9DZ\n",
            "1531850589445160964 2022-06-01 04:10:15 +0000 <fuckstatistic>  https://t.co/ttndbDwyLk\n",
            "[!] No more data! Scraping will stop now.\n",
            "found 0 deleted tweets in this search.\n",
            "Scraping Done!\n"
          ]
        }
      ],
      "source": [
        "bb=scrape_user()\n",
        "print('Scraping Done!')"
      ]
    },
    {
      "cell_type": "code",
      "execution_count": 23,
      "metadata": {
        "colab": {
          "base_uri": "https://localhost:8080/"
        },
        "id": "aSbcnyHVsi2G",
        "outputId": "e63183d8-1d58-4bcc-ef2a-a427262e90d1"
      },
      "outputs": [
        {
          "output_type": "execute_result",
          "data": {
            "text/plain": [
              "(24, 38)"
            ]
          },
          "metadata": {},
          "execution_count": 23
        }
      ],
      "source": [
        "bb.shape"
      ]
    },
    {
      "cell_type": "code",
      "execution_count": null,
      "metadata": {
        "id": "bV1FeDYSsi2I"
      },
      "outputs": [],
      "source": [
        "#https://nealcaren.org/lessons/twint/"
      ]
    }
  ],
  "metadata": {
    "kernelspec": {
      "display_name": "Python 3",
      "language": "python",
      "name": "python3"
    },
    "language_info": {
      "codemirror_mode": {
        "name": "ipython",
        "version": 3
      },
      "file_extension": ".py",
      "mimetype": "text/x-python",
      "name": "python",
      "nbconvert_exporter": "python",
      "pygments_lexer": "ipython3",
      "version": "3.6.5"
    },
    "colab": {
      "name": "Twint web scrapping .ipynb",
      "provenance": [],
      "collapsed_sections": []
    }
  },
  "nbformat": 4,
  "nbformat_minor": 0
}